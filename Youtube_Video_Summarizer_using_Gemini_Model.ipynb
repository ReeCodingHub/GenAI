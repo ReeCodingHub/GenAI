{
  "nbformat": 4,
  "nbformat_minor": 0,
  "metadata": {
    "colab": {
      "provenance": [],
      "authorship_tag": "ABX9TyOmJvZXuzeB7iVpBw6ZrqUU",
      "include_colab_link": true
    },
    "kernelspec": {
      "name": "python3",
      "display_name": "Python 3"
    },
    "language_info": {
      "name": "python"
    }
  },
  "cells": [
    {
      "cell_type": "markdown",
      "metadata": {
        "id": "view-in-github",
        "colab_type": "text"
      },
      "source": [
        "<a href=\"https://colab.research.google.com/github/ReeCodingHub/GenAI/blob/main/Youtube_Video_Summarizer_using_Gemini_Model.ipynb\" target=\"_parent\"><img src=\"https://colab.research.google.com/assets/colab-badge.svg\" alt=\"Open In Colab\"/></a>"
      ]
    },
    {
      "cell_type": "code",
      "execution_count": null,
      "metadata": {
        "id": "dcu0FpoUagBy"
      },
      "outputs": [],
      "source": [
        "import streamlit as st\n",
        "from dotenv import load_dotenv\n",
        "\n",
        "load_dotenv()\n",
        "import os\n",
        "import google.generativeai as genai\n",
        "\n",
        "from youtube_transcript_api import YouTubeTranscriptApi\n",
        "\n",
        "genai.configure(api_key=os.getenv(\"GOOGLE_API_KEY\"))\n",
        "\n",
        "prompt=\"\"\"You are Yotube video summarizer. You will be taking the transcript text\n",
        "and summarizing the entire video and providing the important summary in points\n",
        "within 250 words. Please provide the summary of the text given here:  \"\"\"\n",
        "\n",
        "\n",
        "## getting the transcript data from yt videos\n",
        "def extract_transcript_details(youtube_video_url):\n",
        "    try:\n",
        "\n",
        "        video_id=youtube_video_url.split(\"=\")[1]\n",
        "\n",
        "        transcript_text=YouTubeTranscriptApi.get_transcript(video_id)\n",
        "\n",
        "        transcript = \"\"\n",
        "        for i in transcript_text:\n",
        "            transcript += \" \" + i[\"text\"]\n",
        "\n",
        "        return transcript\n",
        "\n",
        "    except Exception as e:\n",
        "        raise e\n",
        "\n",
        "## getting the summary based on Prompt from Google Gemini Pro\n",
        "def generate_gemini_content(transcript_text,prompt):\n",
        "\n",
        "    model=genai.GenerativeModel(\"gemini-pro\")\n",
        "    response=model.generate_content(prompt+transcript_text)\n",
        "    return response.text\n",
        "\n",
        "st.title(\"YouTube Transcript to Detailed Notes Converter\")\n",
        "youtube_link = st.text_input(\"Enter YouTube Video Link:\")\n",
        "\n",
        "if youtube_link:\n",
        "    #st.write(youtube_link)\n",
        "    video_id = youtube_link.split(\"=\")[1]\n",
        "    #print(video_id)\n",
        "    st.image(f\"http://img.youtube.com/vi/{video_id}/0.jpg\", use_column_width=True)\n",
        "\n",
        "if st.button(\"Get Detailed Notes\"):\n",
        "    transcript_text=extract_transcript_details(youtube_link)\n",
        "\n",
        "    if transcript_text:\n",
        "        summary=generate_gemini_content(transcript_text,prompt)\n",
        "        st.markdown(\"## Detailed Notes:\")\n",
        "        st.write(summary)\n",
        "\n",
        "\n",
        "\n",
        "\n"
      ]
    }
  ]
}